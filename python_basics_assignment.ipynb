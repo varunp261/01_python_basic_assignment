{
 "cells": [
  {
   "cell_type": "markdown",
   "id": "f9f96895-1d91-4472-80c1-12fee6e8c7b5",
   "metadata": {},
   "source": [
    "1) Explain the key features of Python that make it a popular choice for programming\n",
    "-> Python is easy to understand and its simplicity makes it more interesting for anyone to learn it.\n",
    "-> Consists a huge block of standard library to access.\n",
    "-> It is a highly interactive programming.\n",
    "-> Extensive Community Support."
   ]
  },
  {
   "cell_type": "code",
   "execution_count": 2,
   "id": "8e92fa10-0f6c-41a9-b767-90005f77140a",
   "metadata": {},
   "outputs": [
    {
     "name": "stdout",
     "output_type": "stream",
     "text": [
      "Num 2\n"
     ]
    }
   ],
   "source": [
    "# 2) Describe the role of predefined keywords in python along with some examples\n",
    "#Predefined keywords:- These keywords have specific meanings and meant to perform an already defined action\n",
    "#They cannot be defined like normal variables\n",
    "# They are case sensitive \n",
    "\n",
    "#eg if, else if,elif\n",
    "\n",
    "num1 = 8\n",
    "num2 = 10\n",
    "\n",
    "if (num1 > 8):\n",
    "    print(\"Num 1 is greater than num2\")\n",
    "else:\n",
    "    print(\"Num 2\")"
   ]
  },
  {
   "cell_type": "code",
   "execution_count": 3,
   "id": "70db6772-fda8-4e2f-a7ca-42671a9877f4",
   "metadata": {},
   "outputs": [
    {
     "name": "stdout",
     "output_type": "stream",
     "text": [
      "List =  [1, 2, 3, 4, 5]\n"
     ]
    }
   ],
   "source": [
    "#3 Compare and constract mutable and immutable objects in Python along with examples\n",
    "\n",
    "# Mutable Objects :- Mutable objects are those whose state or content can be changed after they are created.\n",
    "# Disadvantages:- Changes to mutable objects can introduce bugs,\n",
    "# eg:- Lists, Dictionaries\n",
    "mylist = [1,2,3,4]\n",
    "mylist\n",
    "mylist.append(5)\n",
    "print(\"List = \",mylist)\n",
    "\n",
    "# Imutable Objects :- Mutable objects are those whose state or content cannot be changed once they are created.\n",
    "# Disadvantages:- You cannot perform any modifications on the objects later in the code\n",
    "# eg:- Tuples\n",
    "mytuple = (1,2,3,4)\n"
   ]
  },
  {
   "cell_type": "code",
   "execution_count": 4,
   "id": "0e499899-b0a5-4848-a251-34d387edc964",
   "metadata": {},
   "outputs": [
    {
     "name": "stdout",
     "output_type": "stream",
     "text": [
      "10\n",
      "Result =  False\n",
      "False\n",
      "Binary_result = 1\n",
      "True\n",
      "True\n"
     ]
    }
   ],
   "source": [
    "#4 Discuss the different types of operators in Python along with example\n",
    "#Types of Opertors:-Arithmetic, Assignment, Comparison, Logical, Bitwise, Membership, Identity\n",
    "# Arithmetic \n",
    "# a = 10 \n",
    "# b = 20\n",
    "# c = a + b\n",
    "# print(c)\n",
    "\n",
    "# Assignment Operator\n",
    "d = 10\n",
    "print(d)\n",
    "\n",
    "# Comparison Operator\n",
    "d = 10\n",
    "e = 20\n",
    "result = d > e\n",
    "print(\"Result = \" , result)\n",
    "\n",
    "# Logical Operator\n",
    "# Logical AND\n",
    "a = True\n",
    "b = False\n",
    "print(a and b)  \n",
    "\n",
    "# Bitwise Operator\n",
    "a = 5  # Binary: 0101\n",
    "b = 3  # Binary: 0011\n",
    "binary_result = a & b  # Binary: 0001\n",
    "print(\"Binary_result = \" + str(binary_result))  # Output: 1\n",
    "\n",
    "# Membership Operator\n",
    "mlist = [1, 2, 3, 4, 5]\n",
    "print(3 in mlist)  # Output: True using the in keyword\n",
    "\n",
    "# Identity Operator\n",
    "a = [1, 2, 3]\n",
    "b = a\n",
    "print(a is b)  # Output: True\n"
   ]
  },
  {
   "cell_type": "code",
   "execution_count": 5,
   "id": "86238809-fb02-4b11-9e07-ce537bfd1ecc",
   "metadata": {},
   "outputs": [
    {
     "name": "stdout",
     "output_type": "stream",
     "text": [
      "4.5\n",
      "Before Casting <class 'list'>\n",
      "After Casting <class 'tuple'>\n"
     ]
    }
   ],
   "source": [
    "#5 Explain the concept of type casting in Python along with some examples\n",
    "#TypeCasting:- Each object in python has a predefined type which can be a integer, string, boolean, array etc\n",
    "#Sometimes they are instances where we need to change their types for compactibility and manipulations of the result \n",
    "# It is of two types \"Implicit\" which is performed automatically and \"Explicit\" which we perform according to our needs\n",
    "\n",
    "# Implicit Type Casting \n",
    "num1 = 2\n",
    "num2 = 2.5\n",
    "num_add  = num1 + num2\n",
    "print(num_add)\n",
    "\n",
    "# Explicit Type Casting\n",
    "mylist = [1,\"sam\",3]\n",
    "print(\"Before Casting \" + str(type(mylist)))\n",
    "mylist = tuple(mylist)\n",
    "print(\"After Casting \" + str(type(mylist)))"
   ]
  },
  {
   "cell_type": "code",
   "execution_count": 6,
   "id": "9cb450b7-c022-4e5e-9aa8-2b47e22f63df",
   "metadata": {},
   "outputs": [
    {
     "name": "stdout",
     "output_type": "stream",
     "text": [
      "Num2 is greater having value of 300\n"
     ]
    }
   ],
   "source": [
    "#6 How do conditional statements work in python along with an example\n",
    "#Conditional Statements:- They work on a principle that there will be one value defined and some conditions will be checked\n",
    "#and based on that the condition which mets that value will then be accepted as TRUE\n",
    "\n",
    "#eg:- Greater between two numbers\n",
    "num1 = 200\n",
    "num2 = 300\n",
    "if (num1 > num2):\n",
    "    print(\"Num1 is greater than num2 having value of \" + str(num1))\n",
    "else:\n",
    "    print(\"Num2 is greater having value of \" + str(num2))"
   ]
  },
  {
   "cell_type": "code",
   "execution_count": null,
   "id": "11686276-63b3-4270-8606-f95b6af331d1",
   "metadata": {},
   "outputs": [],
   "source": [
    "# 7 Describe different types of loop in python along with some examples\n",
    "\n",
    "# To display the below mentioned pattern in while and for loop\n",
    "\n",
    "# *\n",
    "# **\n",
    "# ***\n",
    "\n",
    "\n",
    "#i) while Loop :- \n",
    "\n",
    "# row = 1\n",
    "# while row <= 3:\n",
    "#     col = 1\n",
    "#     while col <= row:\n",
    "#         print(\"*\",end = \"\")\n",
    "#         col = col + 1\n",
    "#     print(\"\")\n",
    "#     row = row + 1\n",
    "\n",
    "#ii) for Loop :- \n",
    "\n",
    "\n",
    "# i = 1\n",
    "# for i in range (3):\n",
    "#     for j in range(i+1):\n",
    "#         print(\"*\",end = \"\")\n",
    "#     print(\"\")\n"
   ]
  },
  {
   "cell_type": "code",
   "execution_count": null,
   "id": "45091818-9d3f-49af-8d3f-54b7fa9f9fa2",
   "metadata": {},
   "outputs": [],
   "source": []
  },
  {
   "cell_type": "code",
   "execution_count": null,
   "id": "8607bf5b-f70e-4a1f-b5a9-d5871189bf7d",
   "metadata": {},
   "outputs": [],
   "source": []
  }
 ],
 "metadata": {
  "kernelspec": {
   "display_name": "Python 3 (ipykernel)",
   "language": "python",
   "name": "python3"
  },
  "language_info": {
   "codemirror_mode": {
    "name": "ipython",
    "version": 3
   },
   "file_extension": ".py",
   "mimetype": "text/x-python",
   "name": "python",
   "nbconvert_exporter": "python",
   "pygments_lexer": "ipython3",
   "version": "3.10.8"
  }
 },
 "nbformat": 4,
 "nbformat_minor": 5
}
